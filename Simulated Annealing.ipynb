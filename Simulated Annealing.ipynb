{
 "cells": [
  {
   "cell_type": "code",
   "execution_count": 2,
   "metadata": {},
   "outputs": [],
   "source": [
    "# %load Himmelblau-Function-SA.py\n",
    "import numpy as np\n",
    "import matplotlib.pyplot as plt\n",
    "import pandas as pd\n",
    "import timeit as tt"
   ]
  },
  {
   "cell_type": "markdown",
   "metadata": {},
   "source": [
    "# Continuous Simulated Annealing"
   ]
  },
  {
   "cell_type": "code",
   "execution_count": 19,
   "metadata": {},
   "outputs": [],
   "source": [
    "parameters_continuous = {\n",
    "                          'perturbation_parameter' : 0.1\n",
    "                        , 'initial_temperature' : 1000\n",
    "                        , 'cooling_iterations' : 300\n",
    "                        , 'cooling_parameter' : 0.85\n",
    "                        , 'neighbourhood_searches' : 15\n",
    "                        , 'initial_inputs' : np.array([[2,1]])\n",
    "                        , 'num_inputs' : 2\n",
    "                          }"
   ]
  },
  {
   "cell_type": "code",
   "execution_count": 41,
   "metadata": {},
   "outputs": [],
   "source": [
    "def himmelblau(inputs):\n",
    "    \n",
    "    # the objective function\n",
    "    \n",
    "    x = inputs[0,0]\n",
    "    y = inputs[0,1]\n",
    "    \n",
    "    return ((x**2)+y-11)**2+(x+(y**2)-7)**2"
   ]
  },
  {
   "cell_type": "code",
   "execution_count": 4,
   "metadata": {},
   "outputs": [],
   "source": [
    "def peturb_inputs_continuous(parameters, inputs):\n",
    "    \n",
    "    # unpack parameters\n",
    "    perturbation_parameter = parameters['perturbation_parameter']\n",
    "    num_inputs = parameters['num_inputs']\n",
    "    \n",
    "    # function to set numbers to -1 if r<0.5 and 1 otherwise\n",
    "    def peturb_function_1(x):\n",
    "        return -1 if x < 0.5 else 1\n",
    "    peturb_vfunction_1 = np.vectorize(peturb_function_1)\n",
    "    \n",
    "    # array of signs for perturbation direction\n",
    "    sign_array = peturb_vfunction_1(np.random.uniform(0,1,(1,num_inputs)))\n",
    "    \n",
    "    # array of random numbers in [0, 1) multitiplied by pertubation\n",
    "    peturbed_array = np.random.uniform(0,1,(1,num_inputs)) * perturbation_parameter\n",
    " \n",
    "    # add signed peturbs to the inputs\n",
    "    outputs = (sign_array * peturbed_array) + inputs\n",
    "    \n",
    "    return outputs"
   ]
  },
  {
   "cell_type": "code",
   "execution_count": 74,
   "metadata": {},
   "outputs": [],
   "source": [
    "def simulated_annealing_continuous(parameters, objective_function):\n",
    "    \n",
    "    # unpack parameters\n",
    "    perturbation_parameter = parameters['perturbation_parameter']\n",
    "    initial_temperature = parameters['initial_temperature']\n",
    "    cooling_iterations = parameters['cooling_iterations']\n",
    "    cooling_parameter = parameters['cooling_parameter']\n",
    "    neighbourhood_searches = parameters['neighbourhood_searches']\n",
    "    initial_inputs = parameters['initial_inputs']\n",
    "    num_inputs = parameters['num_inputs']\n",
    "\n",
    "    # initialise lists to record temperatures and the min \n",
    "    # objective function value at each temperature\n",
    "    temperatures = []\n",
    "    min_obj_func = []\n",
    "    \n",
    "    # put in our inital values\n",
    "    inputs_t = initial_inputs\n",
    "    temperature = initial_temperature\n",
    "\n",
    "    # run through all the cooling iterations\n",
    "    for i in range(cooling_iterations):\n",
    "        \n",
    "        # run through a set number of neighbourhood searches\n",
    "        for j in range(neighbourhood_searches):\n",
    "\n",
    "            # perturb inputs_t to get inputs at t+1\n",
    "            inputs_t_plus_1 = peturb_inputs_continuous(parameters, inputs_t)\n",
    "\n",
    "            # calculate objective funtion of both old and new\n",
    "            obj_func_new = objective_function(inputs_t_plus_1)\n",
    "            obj_func_current = objective_function(inputs_t)\n",
    "\n",
    "            # calculate our acceptance probability for moving to a worse solution\n",
    "            accept_prob = np.exp(-(obj_func_new-obj_func_current)/temperature)\n",
    "\n",
    "            # if the new solution is better take that\n",
    "            # failing that accept it anyway with chance accept_prob\n",
    "            if obj_func_new <= obj_func_current or np.random.rand() <= accept_prob:\n",
    "                inputs_t = inputs_t_plus_1\n",
    "\n",
    "        # keep track of temperatures and minumum objective values\n",
    "        temperatures = np.append(temperatures, temperature)\n",
    "        min_obj_func = np.append(min_obj_func, obj_func_current)\n",
    "        \n",
    "        # anneal the temperature down\n",
    "        temperature = cooling_parameter * temperature\n",
    "        \n",
    "    return inputs_t, obj_func_current, temperatures, min_obj_func"
   ]
  },
  {
   "cell_type": "code",
   "execution_count": 75,
   "metadata": {},
   "outputs": [],
   "source": [
    "solution , obj_value, temp_list , obj_value_list = simulated_annealing_continuous(parameters_continuous, himmelblau)"
   ]
  },
  {
   "cell_type": "code",
   "execution_count": 76,
   "metadata": {},
   "outputs": [
    {
     "name": "stdout",
     "output_type": "stream",
     "text": [
      "x1 is 3.00157\n",
      "x2 is 1.99823\n",
      "Final OF is 0.00009\n"
     ]
    },
    {
     "data": {
      "image/png": "[encoded data removed]",
      "text/plain": [
       "<Figure size 432x288 with 1 Axes>"
      ]
     },
     "metadata": {
      "needs_background": "light"
     },
     "output_type": "display_data"
    }
   ],
   "source": [
    "for i in range(parameters['num_inputs']):\n",
    "    print('x' + str(i+1) + ' is %.5f' % solution[0,i])\n",
    "print(\"Final OF is %.5f\" % obj_value)\n",
    "\n",
    "\n",
    "plt.plot(temp_list, obj_value_list)\n",
    "plt.title(\"obj_value vs. temp.\",fontsize=20, fontweight='bold')\n",
    "plt.xlabel(\"temp.\",fontsize=18, fontweight='bold')\n",
    "plt.ylabel(\"obj_value\",fontsize=18, fontweight='bold')\n",
    "\n",
    "plt.xlim(1000,0)\n",
    "plt.xticks(np.arange(min(temp_list),max(temp_list),100),fontweight='bold')\n",
    "plt.yticks(fontweight='bold')\n",
    "\n",
    "plt.show()\n"
   ]
  },
  {
   "cell_type": "markdown",
   "metadata": {},
   "source": [
    "# Combinatorial Simulated Annealing"
   ]
  },
  {
   "cell_type": "code",
   "execution_count": 2,
   "metadata": {},
   "outputs": [],
   "source": [
    "parameters_combinatorial = {\n",
    "                              'initial_temperature' : 1500\n",
    "                            , 'cooling_iterations' : 250\n",
    "                            , 'cooling_parameter' : 0.9\n",
    "                            , 'neighbourhood_searches' : 20\n",
    "                            , 'flow_matrix' : np.array([[0,5,2,4,1,0,0,6]\n",
    "                                                       ,[5,0,3,0,2,2,2,0]\n",
    "                                                       ,[2,3,0,0,0,0,0,5]\n",
    "                                                       ,[4,0,0,0,5,2,2,10]\n",
    "                                                       ,[1,2,0,5,0,10,0,0]\n",
    "                                                       ,[0,2,0,2,10,0,5,1]\n",
    "                                                       ,[0,2,0,2,0,5,0,10]\n",
    "                                                       ,[6,0,5,10,0,1,10,0]])\n",
    "                            , 'distance_matrix' : np.array([[0,1,2,3,1,2,3,4]\n",
    "                                                           ,[1,0,1,2,2,1,2,3]\n",
    "                                                           ,[2,1,0,1,3,2,1,2]\n",
    "                                                           ,[3,2,1,0,4,3,2,1]\n",
    "                                                           ,[1,2,3,4,0,1,2,3]\n",
    "                                                           ,[2,1,2,3,1,0,1,2]\n",
    "                                                           ,[3,2,1,2,2,1,0,1]\n",
    "                                                           ,[4,3,2,1,3,2,1,0]])\n",
    "                            , 'initial_configuration' : np.array([1,3,0,4,2,5,6,7])\n",
    "                            , 'num_inputs' : 8\n",
    "                              }"
   ]
  },
  {
   "cell_type": "code",
   "execution_count": 3,
   "metadata": {},
   "outputs": [],
   "source": [
    "def peturb_inputs_combinatorial(inputs):\n",
    "    \n",
    "    \"\"\"\n",
    "    This function switches two values in the input array at random.\n",
    "    \"\"\"\n",
    "    \n",
    "    num_inputs = len(inputs)\n",
    "    \n",
    "    # get two distinct random numbers in range of our index array\n",
    "    rand1 = np.random.randint(0,num_inputs)\n",
    "    rand2 = np.random.randint(0,num_inputs)\n",
    "    while rand1 == rand2:\n",
    "        rand2 = np.random.randint(0,num_inputs)\n",
    "    \n",
    "    # get the indexes of these inputs\n",
    "    index1 = np.where(inputs==rand1)[0][0]\n",
    "    index2 = np.where(inputs==rand2)[0][0]\n",
    "    \n",
    "    # copy the array\n",
    "    outputs = np.copy(inputs)\n",
    "    \n",
    "    # switch the values\n",
    "    outputs[index1] = rand2\n",
    "    outputs[index2] = rand1\n",
    "    \n",
    "    return outputs"
   ]
  },
  {
   "cell_type": "code",
   "execution_count": 4,
   "metadata": {},
   "outputs": [],
   "source": [
    "def shuffle_matrix(input_matrix, shuffle_array):\n",
    "    \n",
    "    \"\"\"\n",
    "    This function shuffles a square 2d array (matrix) along both axis\n",
    "    , using the indexes in the shuffle array.\n",
    "    \"\"\"\n",
    "    \n",
    "    if input_matrix.shape[0] != input_matrix.shape[1]:\n",
    "        raise Exception('Input matrix must be square.')\n",
    "    if input_matrix.shape[0] != shuffle_array.shape[0]:\n",
    "        raise Exception('Shuffle array must match input matrix dimension.')\n",
    "    \n",
    "    # copy the matrix\n",
    "    output_matrix = np.copy(input_matrix)\n",
    "        \n",
    "    return output_matrix[:,shuffle_array][shuffle_array,:]"
   ]
  },
  {
   "cell_type": "code",
   "execution_count": 5,
   "metadata": {},
   "outputs": [],
   "source": [
    "def get_total_cost(distance_matrix, flow_matrix):\n",
    "    \n",
    "    \"\"\"\n",
    "    Get the total cost of flow by multiplying the distance and \n",
    "     flow matricies and summing the resulting matrix.\n",
    "    \"\"\"\n",
    "    \n",
    "    return np.sum(distance_matrix * flow_matrix)"
   ]
  },
  {
   "cell_type": "code",
   "execution_count": 6,
   "metadata": {},
   "outputs": [],
   "source": [
    "def simulated_annealing_combinatorial(parameters, objective_function):\n",
    "    \n",
    "    # unpack parameters\n",
    "    initial_temperature = parameters['initial_temperature']\n",
    "    cooling_iterations = parameters['cooling_iterations']\n",
    "    cooling_parameter = parameters['cooling_parameter']\n",
    "    neighbourhood_searches = parameters['neighbourhood_searches']\n",
    "    flow_matrix = parameters['flow_matrix']\n",
    "    distance_matrix = parameters['distance_matrix']\n",
    "    initial_configuration = parameters['initial_configuration']\n",
    "    num_inputs = parameters['num_inputs']\n",
    "\n",
    "    # initialise lists to record temperatures and the min \n",
    "    # objective function value at each temperature\n",
    "    temperatures = []\n",
    "    min_obj_func = []\n",
    "    \n",
    "    # put in our inital values\n",
    "    configuration_t = initial_configuration\n",
    "    distance_matrix_t = shuffle_matrix(distance_matrix, configuration_t)\n",
    "    temperature = initial_temperature\n",
    "\n",
    "    # run through all the cooling iterations\n",
    "    for i in range(cooling_iterations):\n",
    "        \n",
    "        # run through a set number of neighbourhood searches\n",
    "        for j in range(neighbourhood_searches):\n",
    "\n",
    "            # perturb configuration_t to get configurations at t+1\n",
    "            configuration_t_plus_1 = peturb_inputs_combinatorial(configuration_t)\n",
    "            \n",
    "            # calculate distances for peturbed configurations\n",
    "            distance_matrix_t_plus_1 = shuffle_matrix(distance_matrix, configuration_t_plus_1)\n",
    "\n",
    "            # calculate objective funtion of both old and new\n",
    "            obj_func_new = objective_function(distance_matrix_t_plus_1, flow_matrix)\n",
    "            obj_func_current = objective_function(distance_matrix_t, flow_matrix)\n",
    "\n",
    "            # calculate our acceptance probability for moving to a worse solution\n",
    "            accept_prob = np.exp(-(obj_func_new-obj_func_current)/temperature)\n",
    "\n",
    "            # if the new solution is better take that\n",
    "            # failing that accept it anyway with chance accept_prob\n",
    "            if obj_func_new <= obj_func_current or np.random.rand() <= accept_prob:\n",
    "                configuration_t = configuration_t_plus_1\n",
    "                distance_matrix_t = distance_matrix_t_plus_1\n",
    "\n",
    "        # keep track of temperatures and minumum objective values\n",
    "        temperatures = np.append(temperatures, temperature)\n",
    "        min_obj_func = np.append(min_obj_func, obj_func_current)\n",
    "        \n",
    "        # anneal the temperature down\n",
    "        temperature = cooling_parameter * temperature\n",
    "        \n",
    "    return configuration_t, obj_func_current, temperatures, min_obj_func"
   ]
  },
  {
   "cell_type": "code",
   "execution_count": 7,
   "metadata": {},
   "outputs": [],
   "source": [
    "solution , obj_value, temp_list , obj_value_list = simulated_annealing_combinatorial(parameters_combinatorial, get_total_cost)"
   ]
  },
  {
   "cell_type": "code",
   "execution_count": 9,
   "metadata": {},
   "outputs": [
    {
     "name": "stdout",
     "output_type": "stream",
     "text": [
      "solution is [6 7 3 5 4 0 1 2]\n",
      "Final OF is 214\n"
     ]
    },
    {
     "data": {
      "image/png": "[encoded data removed]",
      "text/plain": [
       "<Figure size 432x288 with 1 Axes>"
      ]
     },
     "metadata": {
      "needs_background": "light"
     },
     "output_type": "display_data"
    }
   ],
   "source": [
    "print('solution is ' + str(solution))\n",
    "print('Final OF is ' + str(obj_value))\n",
    "\n",
    "\n",
    "plt.plot(temp_list, obj_value_list)\n",
    "plt.title(\"obj_value vs. temp.\",fontsize=20, fontweight='bold')\n",
    "plt.xlabel(\"temp.\",fontsize=18, fontweight='bold')\n",
    "plt.ylabel(\"obj_value\",fontsize=18, fontweight='bold')\n",
    "\n",
    "plt.xlim(1000,0)\n",
    "plt.xticks(np.arange(min(temp_list),max(temp_list),100),fontweight='bold')\n",
    "plt.yticks(fontweight='bold')\n",
    "\n",
    "plt.show()"
   ]
  },
  {
   "cell_type": "code",
   "execution_count": 12,
   "metadata": {},
   "outputs": [
    {
     "name": "stdout",
     "output_type": "stream",
     "text": [
      "21.90330382282463\n"
     ]
    }
   ],
   "source": [
    "start_time = tt.default_timer()\n",
    "outs = []\n",
    "for i in range(100):\n",
    "    solution , obj_value, _, _  = simulated_annealing_combinatorial(parameters_combinatorial, get_total_cost)\n",
    "    outs.append(obj_value)\n",
    "print(tt.default_timer() - start_time)"
   ]
  },
  {
   "cell_type": "code",
   "execution_count": 13,
   "metadata": {},
   "outputs": [
    {
     "data": {
      "image/png": "[encoded data removed]",
      "text/plain": [
       "<Figure size 432x288 with 1 Axes>"
      ]
     },
     "metadata": {
      "needs_background": "light"
     },
     "output_type": "display_data"
    }
   ],
   "source": [
    "plt.hist(outs,bins=20)\n",
    "plt.show()"
   ]
  },
  {
   "cell_type": "code",
   "execution_count": null,
   "metadata": {},
   "outputs": [],
   "source": []
  }
 ],
 "metadata": {
  "kernelspec": {
   "display_name": "Python 3",
   "language": "python",
   "name": "python3"
  },
  "language_info": {
   "codemirror_mode": {
    "name": "ipython",
    "version": 3
   },
   "file_extension": ".py",
   "mimetype": "text/x-python",
   "name": "python",
   "nbconvert_exporter": "python",
   "pygments_lexer": "ipython3",
   "version": "3.6.7"
  }
 },
 "nbformat": 4,
 "nbformat_minor": 2
}
